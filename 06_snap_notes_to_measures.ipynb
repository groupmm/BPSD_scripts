{
 "cells": [
  {
   "cell_type": "markdown",
   "id": "90f4b0d6-22a2-47f1-bace-72346416c883",
   "metadata": {},
   "source": [
    "# BPSD: Snap Notes to Measures\n",
    "\n",
    "- Note onsets from audio-score sync. might not exactly correspond to annotated or transferred measure positions due to interpolation\n",
    "- This script \"snaps\" all note onsets that occur on downbeats to the annotated measure positions\n",
    "\n",
    "Johannes Zeitler (johannes.zeitler@audiolabs-erlangen.de), 2024"
   ]
  },
  {
   "cell_type": "code",
   "execution_count": 5,
   "id": "092699cc-07eb-448b-aaa1-187df9a8e457",
   "metadata": {
    "tags": []
   },
   "outputs": [],
   "source": [
    "import os\n",
    "import pandas as pd\n",
    "import numpy as np\n",
    "\n",
    "from tqdm.notebook import tqdm"
   ]
  },
  {
   "cell_type": "code",
   "execution_count": 6,
   "id": "a009e322-baf9-4642-a069-c754bf0a18a9",
   "metadata": {
    "tags": []
   },
   "outputs": [],
   "source": [
    "meas_dir  = os.path.join(\"../\", \"2_Annotations\", \"ann_audio_measure\")\n",
    "note_in_dir = os.path.join(\"../\", \"2_Annotations\", \"ann_audio_note\")\n",
    "note_out_dir = os.path.join(\"../\", \"2_Annotations\", \"ann_audio_note\")"
   ]
  },
  {
   "cell_type": "code",
   "execution_count": 7,
   "id": "f06fe5cf-5bb7-44b5-bab5-dd4dea53d83a",
   "metadata": {
    "tags": []
   },
   "outputs": [],
   "source": [
    "pieces = [f for f in os.listdir(meas_dir) if \".csv\" in f]\n",
    "pieces.sort()"
   ]
  },
  {
   "cell_type": "code",
   "execution_count": 8,
   "id": "da61b22f-1570-4bcb-8567-3777c0d4a16b",
   "metadata": {
    "tags": []
   },
   "outputs": [
    {
     "data": {
      "application/vnd.jupyter.widget-view+json": {
       "model_id": "85775cbd1f9e462c8039e0c6e9fc7d95",
       "version_major": 2,
       "version_minor": 0
      },
      "text/plain": [
       "  0%|          | 0/352 [00:00<?, ?it/s]"
      ]
     },
     "metadata": {},
     "output_type": "display_data"
    }
   ],
   "source": [
    "for piece in tqdm(pieces):\n",
    "    meas_in = pd.read_csv(os.path.join(meas_dir, piece), sep=\";\")\n",
    "    note_in = pd.read_csv(os.path.join(note_in_dir, piece), sep=\";\")\n",
    "        \n",
    "    for _, row in meas_in.iterrows():\n",
    "        \n",
    "        note_in.loc[note_in.start_meas==row.measure, \"start\"] = row.time\n",
    "        note_in.loc[note_in.end_meas==row.measure, \"end\"] = row.time\n",
    "        \n",
    "        \n",
    "        note_in[\"duration\"] = note_in[\"end\"] - note_in[\"start\"]\n",
    "        \n",
    "    note_in.to_csv(os.path.join(note_out_dir, piece), sep=\";\", header=True, index=False, float_format = \"%07.03f\")\n",
    "    \n",
    "    #break"
   ]
  }
 ],
 "metadata": {
  "kernelspec": {
   "display_name": "Python 3 (ipykernel)",
   "language": "python",
   "name": "python3"
  },
  "language_info": {
   "codemirror_mode": {
    "name": "ipython",
    "version": 3
   },
   "file_extension": ".py",
   "mimetype": "text/x-python",
   "name": "python",
   "nbconvert_exporter": "python",
   "pygments_lexer": "ipython3",
   "version": "3.11.8"
  }
 },
 "nbformat": 4,
 "nbformat_minor": 5
}
