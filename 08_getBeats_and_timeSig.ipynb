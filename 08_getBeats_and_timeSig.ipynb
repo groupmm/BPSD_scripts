{
 "cells": [
  {
   "cell_type": "markdown",
   "id": "cc1f0c35-25c9-4394-ac44-384e4a13818d",
   "metadata": {},
   "source": [
    "# BPSD: Export Beat Positions and Time Signatures\n",
    "\n",
    "Johannes Zeitler (johannes.zeitler@audiolabs-erlangen.de), 2024"
   ]
  },
  {
   "cell_type": "code",
   "execution_count": 1,
   "id": "7245d595-e5e5-4003-92e1-538a9fa3708e",
   "metadata": {
    "tags": []
   },
   "outputs": [],
   "source": [
    "import pandas as pd\n",
    "import numpy as np\n",
    "import os\n",
    "from matplotlib import pyplot as plt\n",
    "from tqdm.notebook import tqdm\n",
    "\n",
    "from itertools import groupby\n",
    "import scipy"
   ]
  },
  {
   "cell_type": "code",
   "execution_count": null,
   "id": "8d39eee7-721e-4ad0-abb5-446c032fdb5f",
   "metadata": {},
   "outputs": [],
   "source": []
  },
  {
   "cell_type": "code",
   "execution_count": 6,
   "id": "3445a044-f861-4f56-bf4b-47d3ed34ab98",
   "metadata": {
    "tags": []
   },
   "outputs": [],
   "source": [
    "ann_audio_note_dir = os.path.join(\"../\", \"2_Annotations\", \"ann_audio_note\")\n",
    "beat_out_dir = os.path.join(\"../\", \"2_Annotations\", \"ann_audio_beat\")\n",
    "timesig_out_dir = os.path.join(\"../\", \"2_Annotations\", \"ann_score_timesignature\")"
   ]
  },
  {
   "cell_type": "code",
   "execution_count": null,
   "id": "c4144d71-10b3-4a01-9136-507d8ce0517c",
   "metadata": {},
   "outputs": [],
   "source": []
  },
  {
   "cell_type": "code",
   "execution_count": 7,
   "id": "0145693f-07c2-45d4-945f-df790ab2a433",
   "metadata": {
    "tags": []
   },
   "outputs": [],
   "source": [
    "pieces = [f for f in os.listdir(ann_audio_note_dir) if \".csv\" in f]\n",
    "\n",
    "pieces.sort()"
   ]
  },
  {
   "cell_type": "code",
   "execution_count": 8,
   "id": "3638be07-9d77-4156-a873-9e210fe9602c",
   "metadata": {
    "tags": []
   },
   "outputs": [
    {
     "data": {
      "application/vnd.jupyter.widget-view+json": {
       "model_id": "c8c969bb9e794b50aab7f6a8a35630ad",
       "version_major": 2,
       "version_minor": 0
      },
      "text/plain": [
       "  0%|          | 0/352 [00:00<?, ?it/s]"
      ]
     },
     "metadata": {},
     "output_type": "display_data"
    }
   ],
   "source": [
    "for piece in tqdm(pieces):\n",
    "    noteIn = pd.read_csv(os.path.join(ann_audio_note_dir, piece), sep=\";\")\n",
    "    noteIn.sort_values(by=\"start_meas\", inplace=True)\n",
    "    nMeasures = int(max(noteIn.end_meas))\n",
    "    \n",
    "    measures = np.arange(nMeasures)\n",
    "    meas_timesig = []\n",
    "    \n",
    "    for meas in measures:\n",
    "        notes_meas = noteIn[noteIn[\"start_meas\"].astype(int) == meas]\n",
    "        \n",
    "        if len(notes_meas) > 0:\n",
    "            last_timeSig = list(notes_meas[\"timesig\"])[0]\n",
    "            meas_timesig.append((meas, last_timeSig))\n",
    "        elif meas == 0: continue\n",
    "        else:\n",
    "            meas_timesig.append((meas, last_timeSig))\n",
    "        \n",
    "    beats = []\n",
    "    meas_list = []\n",
    "    timesig_list = []\n",
    "    for meas, timesig in meas_timesig:\n",
    "        meas_list.append(meas)\n",
    "        timesig_list.append(timesig)\n",
    "        nBeats = int(timesig.split(\"/\")[0])\n",
    "        for beatIdx in range(nBeats):\n",
    "            beats.append(meas + 1/nBeats*beatIdx)\n",
    "            \n",
    "            \n",
    "    beats = [b for b in beats if b >= (min(noteIn.start_meas)-1e-3)] \n",
    "    \n",
    "    start_pairs = [[start_m, start_s] for start_m, start_s in zip(noteIn.start_meas, noteIn.start)]\n",
    "    start_pairs_unique = np.array([pair for pair,_ in groupby(start_pairs)])\n",
    "    start_pairs_unique.sort(axis=0)        \n",
    "\n",
    "    meas_to_time_annot = scipy.interpolate.interp1d(start_pairs_unique[:,0], start_pairs_unique[:,1], \n",
    "                                              kind='linear', bounds_error=False, fill_value='extrapolate')\n",
    "\n",
    "    beat_times = meas_to_time_annot(beats)\n",
    "\n",
    "    df_beats = pd.DataFrame({ \"time\":beat_times, \"beat\":beats})\n",
    "    df_beats.to_csv(os.path.join(beat_out_dir, piece), sep=\";\", index=False, float_format=\"%07.03f\")\n",
    "    \n",
    "    \n",
    "    \n",
    "    # save timesig only once\n",
    "    performer = piece.split(\".\")[0].split(\"_\")[-1]\n",
    "    if performer == \"WK64\":\n",
    "        sonata = \"_\".join(piece.split(\".\")[0].split(\"_\")[:2])\n",
    "        pd.DataFrame({\"measure\":meas_list,\n",
    "                  \"timesig\":timesig_list}).to_csv(os.path.join(timesig_out_dir, sonata+\".csv\"),\n",
    "                                                  sep=\";\", index=False, float_format=\"%07.03f\")"
   ]
  }
 ],
 "metadata": {
  "kernelspec": {
   "display_name": "Python 3 (ipykernel)",
   "language": "python",
   "name": "python3"
  },
  "language_info": {
   "codemirror_mode": {
    "name": "ipython",
    "version": 3
   },
   "file_extension": ".py",
   "mimetype": "text/x-python",
   "name": "python",
   "nbconvert_exporter": "python",
   "pygments_lexer": "ipython3",
   "version": "3.11.8"
  }
 },
 "nbformat": 4,
 "nbformat_minor": 5
}
