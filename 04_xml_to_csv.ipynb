{
 "cells": [
  {
   "cell_type": "markdown",
   "id": "30efcbd8-4382-4ec5-90ff-263a82d6c21b",
   "metadata": {},
   "source": [
    "# BPSD: Parse Score from musicXML to csv file\n",
    "\n",
    "Johannes Zeitler (johannes.zeitler@audiolabs-erlangen.de), 2024"
   ]
  },
  {
   "cell_type": "code",
   "execution_count": 1,
   "id": "183989a7-2ee6-429e-b731-5099fe365d62",
   "metadata": {
    "tags": []
   },
   "outputs": [],
   "source": [
    "import music21\n",
    "import os\n",
    "import pandas as pd\n",
    "from libfmp import c1, b\n",
    "import numpy as np\n",
    "from music21 import converter, repeat, midi\n",
    "import matplotlib.pyplot as plt"
   ]
  },
  {
   "cell_type": "code",
   "execution_count": 2,
   "id": "d4de84f9-d029-499b-b4b7-f44cec174206",
   "metadata": {
    "tags": []
   },
   "outputs": [],
   "source": [
    "def sub1(x):\n",
    "    return x-1"
   ]
  },
  {
   "cell_type": "code",
   "execution_count": 3,
   "id": "2e11b980-26b7-4431-8cd5-5b848cee68b4",
   "metadata": {
    "tags": []
   },
   "outputs": [],
   "source": [
    "def print_full(x):\n",
    "    pd.set_option('display.max_rows', len(x))\n",
    "    print(x)\n",
    "    pd.reset_option('display.max_rows')"
   ]
  },
  {
   "cell_type": "code",
   "execution_count": 4,
   "id": "f10c0867-7f0d-4263-9da7-a3c83c85c3d0",
   "metadata": {
    "tags": []
   },
   "outputs": [],
   "source": [
    "xml_path = os.path.join(\"../\", \"0_RawData\", \"score_xml_unfolded\")\n",
    "\n",
    "\n",
    "out_path = os.path.join(\"../\", \"2_Annotations\", \"ann_score_note\")"
   ]
  },
  {
   "cell_type": "code",
   "execution_count": 5,
   "id": "3ed0ab41-ff8e-4764-b0c2-045e588b6956",
   "metadata": {
    "tags": []
   },
   "outputs": [
    {
     "name": "stdout",
     "output_type": "stream",
     "text": [
      "found 32 files\n"
     ]
    }
   ],
   "source": [
    "sonatas = [f[:-4] for f in os.listdir(xml_path) if \".xml\" in f]\n",
    "sonatas.sort()\n",
    "print(\"found %i files\"%(len(sonatas)))"
   ]
  },
  {
   "cell_type": "code",
   "execution_count": null,
   "id": "df2d15a2-cdf8-4630-8340-87088f703ce0",
   "metadata": {
    "tags": []
   },
   "outputs": [],
   "source": [
    "for sonata in sonatas:\n",
    "    print(\"processing %s\"%(sonata))\n",
    "\n",
    "    s = converter.parse(os.path.join(xml_path, \"%s.xml\"%(sonata)))\n",
    "\n",
    "    s = s.stripTies()\n",
    "    df = pd.DataFrame(columns=[\"start_meas\", \n",
    "                               \"end_meas\", \n",
    "                               \"duration_quarterLength\",\n",
    "                               \"pitch\", \n",
    "                               \"pitchName\", \n",
    "                               \"timeSig\",\n",
    "                               \"articulation\",\n",
    "                               \"grace\",\n",
    "                               ])\n",
    "    \n",
    "    allNotes = []\n",
    "    \n",
    "    for note in s.recurse().notes: \n",
    "        measure=note.measureNumber\n",
    "        timeSig = note._getTimeSignatureForBeat().numerator / note._getTimeSignatureForBeat().denominator\n",
    "        beatDur = note.beatDuration.quarterLength/4\n",
    "        noteDur = note.duration.quarterLength/4\n",
    "        beat = note.beat - 1\n",
    "        beatNr = beat*beatDur\n",
    "\n",
    "        articulation = \"_\".join([art.name for art in note.articulations])\n",
    "\n",
    "        offset_ratio = note.offset.as_integer_ratio()\n",
    "        offset = note.offset*1.0\n",
    "        \n",
    "        allNotes.append(note)\n",
    "        \n",
    "\n",
    "        if note.isChord:\n",
    "            for pitch in note.pitches:\n",
    "                df_ = pd.DataFrame.from_dict({\"start_meas\" : [measure + beatNr/timeSig],\n",
    "                               \"end_meas\"   : [measure + (beatNr + noteDur) / timeSig],\n",
    "                               \"duration_quarterLength\": [max(note.duration.quarterLength*1.0, 1/16)],\n",
    "                               \"pitch\"      : [pitch.midi],\n",
    "                               \"pitchName\": [pitch.nameWithOctave],\n",
    "                               \"timeSig\" : [\"%i/%i\"%(note._getTimeSignatureForBeat().numerator, note._getTimeSignatureForBeat().denominator)],\n",
    "                               \"articulation\":[articulation],\n",
    "                               \"grace\": [int(note.duration.isGrace*1.)],\n",
    "                               })\n",
    "\n",
    "                df = pd.concat([df, df_])\n",
    "                if df_.duration_quarterLength[0] == 0:break\n",
    "\n",
    "        else:\n",
    "            pitch = note.pitch\n",
    "            df_ = pd.DataFrame.from_dict({\"start_meas\" : [measure + beatNr/timeSig],\n",
    "                           \"end_meas\"   : [measure + (beatNr + noteDur) / timeSig],\n",
    "                           \"duration_quarterLength\": [max(note.duration.quarterLength*1.0, 1/16)],\n",
    "                           \"pitch\"      : [pitch.midi],\n",
    "                           \"pitchName\": [pitch.nameWithOctave],\n",
    "                           \"timeSig\" : [\"%i/%i\"%(note._getTimeSignatureForBeat().numerator, note._getTimeSignatureForBeat().denominator)],\n",
    "                           \"articulation\":[articulation],\n",
    "                           \"grace\": [int(note.duration.isGrace*1.)],\n",
    "                           })\n",
    "\n",
    "            df = pd.concat([df, df_])\n",
    "            if df_.duration_quarterLength[0] == 0:break\n",
    "\n",
    "\n",
    "    df.sort_values(\"start_meas\", inplace=True)\n",
    "\n",
    "    if (np.min(df[\"start_meas\"]) - 1.0) > 0:\n",
    "        print(\"subtract 1 measure (Auftakt)\")\n",
    "        df[[\"start_meas\", \"end_meas\"]] = df[[\"start_meas\", \"end_meas\"]].apply(sub1)\n",
    "    \n",
    "    print(df.sort_values(by=\"start_meas\").iloc[:20])\n",
    "    \n",
    "    s.recurse().measures(0,2).plot(\"pianoroll\")\n",
    "    plt.show()\n",
    "\n",
    "    fr = 32\n",
    "    noteList = [[row.start_meas, row.end_meas-row.start_meas, row.pitch, 64, 0] for _, row in df.iterrows()]\n",
    "\n",
    "    nMeasures = 20\n",
    "\n",
    "    pnoRoll,_ = b.b_sonification.list_to_pitch_activations(noteList, fr*nMeasures, fr)\n",
    "\n",
    "    plt.figure(figsize=(10,6))\n",
    "    plt.imshow(pnoRoll, origin='lower', extent=[0,nMeasures, 0, 127], aspect='auto', cmap='gray_r', interpolation=\"None\")\n",
    "    plt.grid()\n",
    "    plt.ylim([20,90])\n",
    "    plt.xlim([0.5,15])\n",
    "    plt.show()\n",
    "\n",
    "    print(\"used articulations: %s\"%(\",\".join(set(df.articulation))))\n",
    "\n",
    "\n",
    "\n",
    "    df.to_csv(os.path.join(out_path, \"%s.csv\"%(sonata)), sep=\";\", header=True, index=False, float_format='%07.03f')"
   ]
  }
 ],
 "metadata": {
  "kernelspec": {
   "display_name": "Python 3 (ipykernel)",
   "language": "python",
   "name": "python3"
  },
  "language_info": {
   "codemirror_mode": {
    "name": "ipython",
    "version": 3
   },
   "file_extension": ".py",
   "mimetype": "text/x-python",
   "name": "python",
   "nbconvert_exporter": "python",
   "pygments_lexer": "ipython3",
   "version": "3.11.8"
  }
 },
 "nbformat": 4,
 "nbformat_minor": 5
}
