{
 "cells": [
  {
   "cell_type": "markdown",
   "id": "5431351a-fe06-46a1-b623-752a1be96f8a",
   "metadata": {},
   "source": [
    "# BPSD: Transfer score-based annotations to individual audio versions\n",
    "\n",
    "Johannes Zeitler (johannes.zeitler@audiolabs-erlangen.de), 2024"
   ]
  },
  {
   "cell_type": "code",
   "execution_count": 1,
   "id": "9e95b74f-3f3e-40c8-be71-52d703d95444",
   "metadata": {
    "tags": []
   },
   "outputs": [],
   "source": [
    "import os\n",
    "import numpy as np\n",
    "import scipy\n",
    "import pandas as pd\n",
    "\n",
    "from tqdm.notebook import tqdm"
   ]
  },
  {
   "cell_type": "code",
   "execution_count": 2,
   "id": "38088117-938c-4bbc-a158-27761993ac7e",
   "metadata": {
    "tags": []
   },
   "outputs": [],
   "source": [
    "data_dir = os.path.join(\"../\", \"2_Annotations\")"
   ]
  },
  {
   "cell_type": "code",
   "execution_count": 3,
   "id": "49d0d41a-5ba9-4a16-a56b-c51ebd55eb49",
   "metadata": {
    "tags": []
   },
   "outputs": [],
   "source": [
    "dir_syncinfo = os.path.join(data_dir, \"ann_audio_syncInfo\")"
   ]
  },
  {
   "cell_type": "code",
   "execution_count": 4,
   "id": "fe425f61-28f8-4e6c-870a-7d7fecb89c7b",
   "metadata": {
    "tags": []
   },
   "outputs": [],
   "source": [
    "files = [f for f in os.listdir(dir_syncinfo) if \".csv\" in f]\n",
    "files.sort()"
   ]
  },
  {
   "cell_type": "code",
   "execution_count": 5,
   "id": "254e36b9-8c6d-46df-bd90-74c3642bf0f9",
   "metadata": {
    "tags": []
   },
   "outputs": [],
   "source": [
    "annotations = [\"localkey\", \"chord\", \"structureCoarse\", \"structureFine\"]\n",
    "\n",
    "for annotation in annotations:\n",
    "    os.makedirs(os.path.join(data_dir, \"ann_audio_\"+annotation), exist_ok=True)"
   ]
  },
  {
   "cell_type": "code",
   "execution_count": null,
   "id": "dc2e098e-5f2b-492f-8024-701c08f1c25c",
   "metadata": {
    "tags": []
   },
   "outputs": [],
   "source": [
    "for file in tqdm(files):\n",
    "    piece = \"_\".join(file.split(\"_\")[:-1])\n",
    "    performer = file.split(\"_\")[-1].split(\".\")[0]\n",
    "    \n",
    "    syncinfo = pd.read_csv(os.path.join(dir_syncinfo, file), sep=\";\")\n",
    "    \n",
    "    meas_to_time = scipy.interpolate.interp1d(syncinfo.measure, \n",
    "                                              syncinfo.time, \n",
    "                                              kind='linear', \n",
    "                                              bounds_error=False, \n",
    "                                              fill_value=\"extrapolate\")\n",
    "    \n",
    "    for annotation in annotations:\n",
    "        ann_in = pd.read_csv(os.path.join(data_dir, \"ann_score_\"+annotation, piece+\".csv\"), sep=\";\")\n",
    "\n",
    "        ann_in.end = np.clip(ann_in.end, min(syncinfo.measure), max(syncinfo.measure))\n",
    "        ann_in.start = np.clip(ann_in.start, min(syncinfo.measure), max(syncinfo.measure))\n",
    "\n",
    "        \n",
    "        ann_in.start = meas_to_time(ann_in.start)\n",
    "        ann_in.end = meas_to_time(ann_in.end)\n",
    "        \n",
    "        if \"duration\" in ann_in.keys():\n",
    "            ann_in.duration = ann_in.end - ann_in.start\n",
    "        \n",
    "        ann_in.to_csv(os.path.join(data_dir, \"ann_audio_\"+annotation, file), sep=\";\", header=True, index=False, float_format=\"%07.03f\")"
   ]
  }
 ],
 "metadata": {
  "kernelspec": {
   "display_name": "Python 3 (ipykernel)",
   "language": "python",
   "name": "python3"
  },
  "language_info": {
   "codemirror_mode": {
    "name": "ipython",
    "version": 3
   },
   "file_extension": ".py",
   "mimetype": "text/x-python",
   "name": "python",
   "nbconvert_exporter": "python",
   "pygments_lexer": "ipython3",
   "version": "3.11.8"
  }
 },
 "nbformat": 4,
 "nbformat_minor": 5
}
