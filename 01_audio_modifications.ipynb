{
 "cells": [
  {
   "cell_type": "markdown",
   "id": "87fd9696-5512-474e-95b1-f66f0e1ad24b",
   "metadata": {},
   "source": [
    "# BPSD: Audio Modifications\n",
    "\n",
    "- Copy audio files from 0_RawData/audio_ripped to 1_Audio\n",
    "- apply structural modifications if necessary\n",
    "\n",
    "Johannes Zeitler (johannes.zeitler@audiolabs-erlangen.de), 2024"
   ]
  },
  {
   "cell_type": "code",
   "execution_count": 1,
   "id": "27c337c5-f9d9-4204-b1bd-b4f1ee73408f",
   "metadata": {
    "tags": []
   },
   "outputs": [],
   "source": [
    "import os\n",
    "import numpy as np\n",
    "import matplotlib.pyplot as plt\n",
    "from IPython.display import Audio\n",
    "from libfmp import b\n",
    "\n",
    "from scipy.io import wavfile\n",
    "import librosa\n",
    "\n",
    "from copy import deepcopy\n",
    "\n",
    "import pandas as pd\n",
    "\n",
    "from tqdm.notebook import tqdm\n",
    "\n",
    "import numbers\n",
    "import shutil"
   ]
  },
  {
   "cell_type": "code",
   "execution_count": 2,
   "id": "135416a0-4124-4a5b-8adc-8d06e0f09d2e",
   "metadata": {
    "tags": []
   },
   "outputs": [],
   "source": [
    "wav_dir = os.path.join(\"../\", \"0_RawData\", \"audio_ripped\")\n",
    "\n",
    "ann_mod_dir = os.path.join(\"../\", \"2_Annotations\", \"ann_audio_modifications\")\n",
    "wav_out_dir = os.path.join(\"../\", \"1_Audio\")\n",
    "\n",
    "logfile = \"./mods_list.txt\""
   ]
  },
  {
   "cell_type": "code",
   "execution_count": 3,
   "id": "44c4cfd0-bc33-451a-a53a-077b4d510d52",
   "metadata": {
    "tags": []
   },
   "outputs": [],
   "source": [
    "annotationsList = [f[:-4] for f in os.listdir(ann_mod_dir) if \".csv\" in f]"
   ]
  },
  {
   "cell_type": "code",
   "execution_count": 4,
   "id": "133811b9-10b8-4dee-9781-b656954dc5ac",
   "metadata": {
    "tags": []
   },
   "outputs": [
    {
     "name": "stdout",
     "output_type": "stream",
     "text": [
      "0: Beethoven_Op002No1-01_AB96\n",
      "1: Beethoven_Op002No1-01_FJ62\n",
      "2: Beethoven_Op002No1-01_JJ90\n",
      "3: Beethoven_Op002No1-01_VA81\n",
      "4: Beethoven_Op002No2-01_MB97\n",
      "5: Beethoven_Op002No2-01_WK64\n",
      "6: Beethoven_Op002No3-01_FJ62\n",
      "7: Beethoven_Op002No3-01_WK64\n",
      "8: Beethoven_Op010No2-01_MB97\n",
      "9: Beethoven_Op010No2-01_MC22\n",
      "10: Beethoven_Op010No3-01_WK64\n",
      "11: Beethoven_Op013-01_WK64\n",
      "12: Beethoven_Op028-01_AS35\n",
      "13: Beethoven_Op028-01_AS35_old\n",
      "14: Beethoven_Op028-01_FJ62\n",
      "15: Beethoven_Op028-01_WK64\n",
      "16: Beethoven_Op031No1-01_WK64\n",
      "17: Beethoven_Op031No2-01_WK64\n",
      "18: Beethoven_Op031No3-01_WK64\n",
      "19: Beethoven_Op053-01_WK64\n",
      "20: Beethoven_Op078-01_FJ62\n",
      "21: Beethoven_Op078-01_WK64\n",
      "22: Beethoven_Op079-01_FJ62\n",
      "23: Beethoven_Op079-01_WK64\n",
      "24: Beethoven_Op106-01_WK64\n",
      "25: Beethoven_Op111-01_WK64\n"
     ]
    }
   ],
   "source": [
    "annotationsList.sort()\n",
    "for i, l in enumerate(annotationsList):\n",
    "    print(\"%i: %s\"%(i,l))"
   ]
  },
  {
   "cell_type": "code",
   "execution_count": 5,
   "id": "08ddc649-c183-40ca-bef6-7decddff9389",
   "metadata": {
    "tags": []
   },
   "outputs": [],
   "source": [
    "def writeLog(s, newline=\"\\n\"):\n",
    "    with open(logfile, \"a\") as lf:\n",
    "        lf.write(s+newline)"
   ]
  },
  {
   "cell_type": "markdown",
   "id": "bb6d0239-cde4-45ab-a717-7b1938f25867",
   "metadata": {},
   "source": [
    "### get list of all raw audio files"
   ]
  },
  {
   "cell_type": "code",
   "execution_count": 8,
   "id": "759327e4-17be-451c-b149-7bb7f8191a20",
   "metadata": {
    "tags": []
   },
   "outputs": [],
   "source": [
    "all_wav_dirs = [d for d in os.listdir(wav_dir) if os.path.isdir(os.path.join(wav_dir, d))]\n",
    "all_wav_dirs.sort()"
   ]
  },
  {
   "cell_type": "markdown",
   "id": "2fa5544d-0171-44ef-a95d-91886e471a9f",
   "metadata": {},
   "source": [
    "### copy & modify the audio"
   ]
  },
  {
   "cell_type": "code",
   "execution_count": null,
   "id": "52abfb6d-b83a-4149-a004-fc0fa0e4a4aa",
   "metadata": {
    "tags": []
   },
   "outputs": [],
   "source": [
    "for performer_dir in all_wav_dirs:\n",
    "    movements = [f for f in os.listdir(os.path.join(wav_dir, performer_dir)) if \"-01\" in f]\n",
    "    \n",
    "    print(\"Processing %s, found %i movements\"%(performer_dir, len(movements)))\n",
    "    \n",
    "    for piece in tqdm(movements):\n",
    "        audioIn, Fs = librosa.load(os.path.join(wav_dir, performer_dir, piece), sr=22050, mono=True)\n",
    "        audioOut = deepcopy(audioIn)\n",
    "        \n",
    "        # modify piece if necessary\n",
    "        if piece[:-4] in annotationsList:\n",
    "            print(\"modifying %s\"%(piece[:-4]))\n",
    "            parts = piece[:-4].split(\"_\")\n",
    "            sonata = parts[0]+\"_\"+parts[1]+\"_\" + parts[2]\n",
    "\n",
    "            ann_mod = b.b_annotation.read_csv(os.path.join(ann_mod_dir, piece[:-4]+\".csv\"), header=True)\n",
    "\n",
    "            mods_list = []\n",
    "\n",
    "            for _, row in ann_mod.iterrows():\n",
    "                mod = row.modification\n",
    "\n",
    "                if mod == \"cut\":\n",
    "                    effect_time = row.start        \n",
    "                    mods_list.append([effect_time, row])    \n",
    "\n",
    "                elif mod == \"copy\": \n",
    "                    effect_time = row.insert_point        \n",
    "                    mods_list.append([effect_time, row, audioIn[int(float(row.start)*Fs):int(float(row.end)*Fs)]])\n",
    "\n",
    "                elif mod == \"silence\":\n",
    "                    effect_time = row.insert_point        \n",
    "                    mods_list.append([effect_time, row])\n",
    "            \n",
    "\n",
    "\n",
    "            deltaT = 0\n",
    "            for mod_row in mods_list:\n",
    "\n",
    "                mod = mod_row[1].modification\n",
    "\n",
    "                if mod == \"cut\":\n",
    "                    cutStart = mod_row[1].start\n",
    "                    cutEnd = mod_row[1].end\n",
    "\n",
    "                    print(\"cutting [%.2fs - %.2fs]\"%(cutStart, cutEnd))\n",
    "                    writeLog(\"cutting [%.2fs - %.2fs]\"%(cutStart, cutEnd))\n",
    "\n",
    "                    audioOut = np.concatenate([audioOut[:int( (cutStart+deltaT)*Fs)], audioOut[int( (cutEnd+deltaT)*Fs):]])        \n",
    "                    deltaT -= (cutEnd - cutStart)\n",
    "\n",
    "                if mod == \"copy\":\n",
    "                    insertPoint = mod_row[0]\n",
    "\n",
    "                    print(\"copying [%.2fs - %.2fs] to %.2fs\"%(float(mod_row[1].start), float(mod_row[1].end),insertPoint))\n",
    "                    writeLog(\"copying [%.2fs - %.2fs] to %.2fs\"%(float(mod_row[1].start), float(mod_row[1].end),insertPoint))\n",
    "\n",
    "\n",
    "                    audioOut = np.concatenate([audioOut[:int( (insertPoint + deltaT)*Fs)], mod_row[2], audioOut[int( (insertPoint+deltaT)*Fs):]])\n",
    "                    deltaT += len(mod_row[2])/Fs\n",
    "\n",
    "                if mod == \"silence\":\n",
    "                    insertPoint = mod_row[0]\n",
    "                    silence_duration = float(mod_row[1].silence_duration)\n",
    "\n",
    "                    print(\"inserting %.2fs silence at %.2fs\"%(silence_duration, insertPoint))\n",
    "                    writeLog(\"inserting %.2fs silence at %.2fs\"%(silence_duration, insertPoint))\n",
    "\n",
    "\n",
    "                    audioOut = np.concatenate([audioOut[:int( (insertPoint + deltaT)*Fs)], np.zeros(int(silence_duration*Fs)), audioOut[int( (insertPoint+deltaT)*Fs):]])\n",
    "\n",
    "                    deltaT += silence_duration\n",
    "          \n",
    "            writeLog(\"\")\n",
    "        ##############################################\n",
    "        audioOut /= np.max(np.abs(audioOut))\n",
    "\n",
    "        audioOut *= np.iinfo(np.int16).max\n",
    "\n",
    "\n",
    "        wavfile.write(filename=os.path.join(wav_out_dir, piece[:-4]+\".wav\"), rate=22050, data=audioOut.astype(np.int16)) "
   ]
  }
 ],
 "metadata": {
  "kernelspec": {
   "display_name": "Python 3 (ipykernel)",
   "language": "python",
   "name": "python3"
  },
  "language_info": {
   "codemirror_mode": {
    "name": "ipython",
    "version": 3
   },
   "file_extension": ".py",
   "mimetype": "text/x-python",
   "name": "python",
   "nbconvert_exporter": "python",
   "pygments_lexer": "ipython3",
   "version": "3.11.8"
  }
 },
 "nbformat": 4,
 "nbformat_minor": 5
}
