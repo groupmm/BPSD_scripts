{
 "cells": [
  {
   "cell_type": "markdown",
   "id": "c64ac64e-a9cd-43f9-96d8-e6486f22539c",
   "metadata": {},
   "source": [
    "# BPSD: Get Durations\n",
    "\n",
    "- Compute and output statistics for duration of individual sonatas, audio versions,...\n",
    "\n",
    "Johannes Zeitler (johannes.zeitler@audiolabs-erlangen.de), 2024"
   ]
  },
  {
   "cell_type": "code",
   "execution_count": 1,
   "id": "36b76b2b-09dd-4f83-940d-8aef4dcb97a4",
   "metadata": {
    "tags": []
   },
   "outputs": [],
   "source": [
    "import os\n",
    "import numpy as np\n",
    "import audioread\n",
    "import pandas as pd\n",
    "from copy import deepcopy\n",
    "import librosa"
   ]
  },
  {
   "cell_type": "code",
   "execution_count": 2,
   "id": "f963452a-1aa9-42f5-a735-5a0236fbaca3",
   "metadata": {
    "tags": []
   },
   "outputs": [],
   "source": [
    "def getDur(filename):\n",
    "    return librosa.get_duration(filename=filename)"
   ]
  },
  {
   "cell_type": "code",
   "execution_count": 3,
   "id": "0a798c0c-257f-410a-8178-17416701de32",
   "metadata": {
    "tags": []
   },
   "outputs": [],
   "source": [
    "def sec_to_hMinSec(t):\n",
    "    t = deepcopy(t)    \n",
    "    h = t//3600\n",
    "    t -= h*3600\n",
    "    m = t//60\n",
    "    t -= m*60\n",
    "    s = t\n",
    "\n",
    "    return \"%02i:%02i:%02i\"%(h,m,s), h, m, s"
   ]
  },
  {
   "cell_type": "code",
   "execution_count": 4,
   "id": "6e980498-43b4-41f0-9900-ec3a4d88ef07",
   "metadata": {
    "tags": []
   },
   "outputs": [],
   "source": [
    "orig_dir = os.path.join(\"../\", \"0_RawData\", \"audio_ripped\")\n",
    "final_dir = os.path.join(\"../\", \"1_Audio\")"
   ]
  },
  {
   "cell_type": "code",
   "execution_count": 5,
   "id": "c0731f7a-36b3-4573-9bdc-c27d03859a87",
   "metadata": {
    "tags": []
   },
   "outputs": [],
   "source": [
    "performers = list(set([f.split(\".\")[0].split(\"_\")[-1] for f in os.listdir(final_dir) if \".wav\" in f]))\n",
    "performers.sort()"
   ]
  },
  {
   "cell_type": "code",
   "execution_count": 7,
   "id": "5b343abe-3345-46b7-ba57-f16264203a2b",
   "metadata": {
    "tags": []
   },
   "outputs": [],
   "source": [
    "sonatas = list(set([f.split(\".\")[0].split(\"_\")[1] for f in os.listdir(final_dir) if \".wav\" in f]))\n",
    "\n",
    "sonatas.sort()"
   ]
  },
  {
   "cell_type": "code",
   "execution_count": 8,
   "id": "a01e6774-5769-4b7d-8904-32e562be3826",
   "metadata": {
    "tags": []
   },
   "outputs": [],
   "source": [
    "durations_orig = {}\n",
    "durations_cut = {}\n",
    "for performer in performers:\n",
    "    durations_orig[performer] = []\n",
    "    durations_cut[performer] = []"
   ]
  },
  {
   "cell_type": "code",
   "execution_count": 9,
   "id": "167624f1-5c80-48f3-ac21-d8765ba92740",
   "metadata": {
    "tags": []
   },
   "outputs": [],
   "source": [
    "for performer in performers:\n",
    "    for sonata in sonatas:\n",
    "        # duration of orig. files\n",
    "        durations_orig[performer].append(getDur(os.path.join(orig_dir, performer, \"Beethoven_%s_%s.wav\"%(sonata, performer))))"
   ]
  },
  {
   "cell_type": "code",
   "execution_count": 10,
   "id": "750403a9-a890-4987-8ea4-e0ebe23d3fa3",
   "metadata": {
    "tags": []
   },
   "outputs": [],
   "source": [
    "for performer in performers:\n",
    "    for sonata in sonatas:\n",
    "        # duration of mod. files\n",
    "        durations_cut[performer].append(getDur(os.path.join(final_dir, \"Beethoven_%s_%s.wav\"%(sonata, performer))))"
   ]
  },
  {
   "cell_type": "code",
   "execution_count": 11,
   "id": "79e46787-648d-4e44-909b-17775d6644a5",
   "metadata": {
    "tags": []
   },
   "outputs": [
    {
     "name": "stdout",
     "output_type": "stream",
     "text": [
      "Performer \t Orig. Dur. \t Mod. Dur.\n",
      "AB96    \t 03:54:34 \t 03:52:28\n",
      "AS35    \t 03:31:03 \t 03:33:35\n",
      "DB84    \t 03:58:37 \t 03:58:37\n",
      "FG58    \t 03:34:00 \t 03:34:00\n",
      "FG67    \t 03:25:02 \t 03:25:02\n",
      "FJ62    \t 03:35:13 \t 03:41:26\n",
      "JJ90    \t 03:41:06 \t 03:39:14\n",
      "MB97    \t 03:52:23 \t 03:46:08\n",
      "MC22    \t 04:08:22 \t 04:05:11\n",
      "VA81    \t 03:48:16 \t 03:46:27\n",
      "WK64    \t 03:18:26 \t 03:45:31\n"
     ]
    }
   ],
   "source": [
    "print(\"Performer \\t Orig. Dur. \\t Mod. Dur.\")\n",
    "for performer in performers:\n",
    "    totalDur_orig = np.sum(durations_orig[performer])\n",
    "    totalDur_cut = np.sum(durations_cut[performer])\n",
    "    \n",
    "    print(\"%s    \\t %s \\t %s\"%(performer, sec_to_hMinSec(totalDur_orig)[0], sec_to_hMinSec(totalDur_cut)[0])) "
   ]
  },
  {
   "cell_type": "code",
   "execution_count": 12,
   "id": "46eea7d5-05d7-4dd3-96d3-0a4f9444cbde",
   "metadata": {
    "tags": []
   },
   "outputs": [
    {
     "name": "stdout",
     "output_type": "stream",
     "text": [
      "Total duration (orig): 40:47:08\n",
      "Total duration (cut): 41:07:45\n"
     ]
    }
   ],
   "source": [
    "total_dur_cut = 0\n",
    "total_dur_orig = 0\n",
    "for key in durations_cut.keys():\n",
    "    total_dur_cut += np.sum(durations_cut[key])\n",
    "\n",
    "    total_dur_orig += np.sum(durations_orig[key])\n",
    "\n",
    "print(\"Total duration (orig): %s\"%(sec_to_hMinSec(total_dur_orig)[0]))\n",
    "print(\"Total duration (cut): %s\"%(sec_to_hMinSec(total_dur_cut)[0]))"
   ]
  },
  {
   "cell_type": "code",
   "execution_count": 13,
   "id": "bd85e3cc-bc9d-4c7e-a4b7-49dda29c0361",
   "metadata": {
    "tags": []
   },
   "outputs": [
    {
     "name": "stdout",
     "output_type": "stream",
     "text": [
      "Performer \t Orig. Dur. \t Mod. Dur.\n",
      "AB96    \t&  03:54:34  &  03:52:28 \\\\\n",
      "AS35    \t&  03:31:03  &  03:33:35 \\\\\n",
      "DB84    \t&  03:58:37  &  03:58:37 \\\\\n",
      "FG58    \t&  03:34:00  &  03:34:00 \\\\\n",
      "FG67    \t&  03:25:02  &  03:25:02 \\\\\n",
      "FJ62    \t&  03:35:13  &  03:41:26 \\\\\n",
      "JJ90    \t&  03:41:06  &  03:39:14 \\\\\n",
      "MB97    \t&  03:52:23  &  03:46:08 \\\\\n",
      "MC22    \t&  04:08:22  &  04:05:11 \\\\\n",
      "VA81    \t&  03:48:16  &  03:46:27 \\\\\n",
      "WK64    \t&  03:18:26  &  03:45:31 \\\\\n"
     ]
    }
   ],
   "source": [
    "print(\"Performer \\t Orig. Dur. \\t Mod. Dur.\")\n",
    "for performer in performers:\n",
    "    totalDur_orig = np.sum(durations_orig[performer])\n",
    "    totalDur_cut = np.sum(durations_cut[performer])\n",
    "    \n",
    "    print(\"%s    \\t&  %s  &  %s \\\\\\\\\"%(performer, sec_to_hMinSec(totalDur_orig)[0], sec_to_hMinSec(totalDur_cut)[0])) "
   ]
  },
  {
   "cell_type": "code",
   "execution_count": 14,
   "id": "46b7249c-732a-4421-b1b1-75c1793d086b",
   "metadata": {
    "tags": []
   },
   "outputs": [
    {
     "name": "stdout",
     "output_type": "stream",
     "text": [
      "Nr \tOp\t\tMean\tMin\t\t\t Max\n",
      "01\tOp002No1-01\t03:47\t03:22 (AS35)    \t 04:33 (WK64)\n",
      "02\tOp002No2-01\t07:04\t06:23 (FG67)    \t 07:45 (MC22)\n",
      "03\tOp002No3-01\t10:15\t09:47 (FG58)    \t 11:25 (MC22)\n",
      "04\tOp007-01\t08:17\t07:27 (AS35)    \t 08:58 (MC22)\n",
      "05\tOp010No1-01\t05:33\t04:41 (AS35)    \t 06:13 (MC22)\n",
      "06\tOp010No2-01\t05:38\t05:03 (FG67)    \t 06:14 (VA81)\n",
      "07\tOp010No3-01\t06:59\t06:26 (FJ62)    \t 07:53 (JJ90)\n",
      "08\tOp013-01\t08:56\t08:06 (FG58)    \t 09:57 (MC22)\n",
      "09\tOp014No1-01\t06:35\t05:31 (VA81)    \t 07:25 (AB96)\n",
      "10\tOp014No2-01\t07:06\t05:49 (AS35)    \t 07:56 (AB96)\n",
      "11\tOp022-01\t07:26\t06:43 (AS35)    \t 08:36 (MC22)\n",
      "12\tOp026-01\t08:01\t06:51 (FG67)    \t 10:02 (AS35)\n",
      "13\tOp027No1-01\t05:12\t04:36 (AB96)    \t 05:42 (FG58)\n",
      "14\tOp027No2-01\t06:01\t04:58 (AS35)    \t 07:28 (FG58)\n",
      "15\tOp028-01\t09:58\t08:58 (FJ62)    \t 11:39 (MC22)\n",
      "16\tOp031No1-01\t06:23\t05:44 (FG58)    \t 07:19 (MC22)\n",
      "17\tOp031No2-01\t08:27\t06:49 (FG58)    \t 09:52 (MC22)\n",
      "18\tOp031No3-01\t08:29\t07:53 (FG67)    \t 09:07 (MB97)\n",
      "19\tOp049No1-01\t04:35\t03:41 (JJ90)    \t 05:17 (MB97)\n",
      "20\tOp049No2-01\t04:37\t04:19 (FJ62)    \t 05:10 (MC22)\n",
      "21\tOp053-01\t10:38\t09:25 (FG67)    \t 11:36 (MC22)\n",
      "22\tOp054-01\t05:38\t04:58 (AS35)    \t 06:13 (MC22)\n",
      "23\tOp057-01\t09:35\t07:35 (FG67)    \t 10:39 (DB84)\n",
      "24\tOp078-01\t07:04\t06:20 (FG58)    \t 08:18 (MC22)\n",
      "25\tOp079-01\t04:40\t03:58 (AS35)    \t 05:12 (MC22)\n",
      "26\tOp081a-01\t07:04\t06:00 (FG67)    \t 07:50 (DB84)\n",
      "27\tOp090-01\t05:35\t04:34 (FG67)    \t 06:19 (MB97)\n",
      "28\tOp101-01\t04:00\t03:35 (WK64)    \t 04:29 (DB84)\n",
      "29\tOp106-01\t11:06\t08:54 (AS35)    \t 13:04 (DB84)\n",
      "30\tOp109-01\t03:46\t03:14 (WK64)    \t 04:19 (DB84)\n",
      "31\tOp110-01\t06:33\t06:00 (FJ62)    \t 07:33 (DB84)\n",
      "32\tOp111-01\t09:05\t08:20 (AS35)    \t 10:04 (VA81)\n"
     ]
    }
   ],
   "source": [
    "print(\"Nr \\tOp\\t\\tMean\\tMin\\t\\t\\t Max\")\n",
    "for i, sonata in enumerate(sonatas):\n",
    "    \n",
    "    sonata_dur = []\n",
    "    for performer in performers: sonata_dur.append(durations_cut[performer][i])\n",
    "    \n",
    "    iMin = np.argmin(sonata_dur)\n",
    "    iMax = np.argmax(sonata_dur)\n",
    "    \n",
    "    print(\"%02i\\t%s\\t%s\\t%s (%s)    \\t %s (%s)\"%(i+1, \n",
    "                              sonata, \n",
    "                              sec_to_hMinSec(np.mean(sonata_dur))[0][3:],\n",
    "                              sec_to_hMinSec(sonata_dur[iMin])[0][3:], performers[iMin],\n",
    "                              sec_to_hMinSec(sonata_dur[iMax])[0][3:], performers[iMax]))                   "
   ]
  },
  {
   "cell_type": "code",
   "execution_count": null,
   "id": "914705c9-6cc8-404f-836c-516338e8a34d",
   "metadata": {},
   "outputs": [],
   "source": []
  },
  {
   "cell_type": "code",
   "execution_count": null,
   "id": "29e49923-f704-4fba-ae8d-1a2795a37dc7",
   "metadata": {},
   "outputs": [],
   "source": []
  },
  {
   "cell_type": "code",
   "execution_count": 15,
   "id": "95f0e2bd-c29b-4c02-9b3c-26a5f48ab91f",
   "metadata": {
    "tags": []
   },
   "outputs": [],
   "source": [
    "ann_score_coarseStructure_path = os.path.join(\"../\", \"2_Annotations\", \"ann_score_structureCoarse\")\n",
    "ann_audio_measure_dir = os.path.join(\"../\", \"2_Annotations\", \"ann_audio_measure\")"
   ]
  },
  {
   "cell_type": "markdown",
   "id": "31c01dac-e651-4cdf-9f9b-25e8e122031a",
   "metadata": {},
   "source": [
    "# Print a table"
   ]
  },
  {
   "cell_type": "code",
   "execution_count": 16,
   "id": "70d49709-7ee4-424d-867a-3fd4d28ddc16",
   "metadata": {
    "tags": []
   },
   "outputs": [],
   "source": [
    "performer_macros = {\"Ashkenazy\": \"\\Ash\",\n",
    "                    \"Barenboim\": \"\\Brb\",\n",
    "                    \"Brendel\": \"\\Brd\",\n",
    "                    \"BilsonEtAl\": \"\\Bls\",\n",
    "                    \"Chemin\" : \"\\Chm\",\n",
    "                    \"Gulda1958\": \"\\GldFifty\",\n",
    "                    \"Gulda1967\": \"\\GldSixty\",\n",
    "                    \"Jando\": \"\\Jnd\",\n",
    "                    \"Jank\": \"\\Jnk\",\n",
    "                    \"Kempff\": \"\\Kmp\",\n",
    "                    \"Schnabel\": \"\\Sch\"}"
   ]
  },
  {
   "cell_type": "code",
   "execution_count": 22,
   "id": "5a568959-b36a-40b6-90df-49d0b476494a",
   "metadata": {
    "tags": []
   },
   "outputs": [],
   "source": [
    "performer_macros = {\"VA81\": \"\\Ash\",\n",
    "                    \"DB84\": \"\\Brb\",\n",
    "                    \"AB96\": \"\\Brd\",\n",
    "                    \"MB97\": \"\\Bls\",\n",
    "                    \"MC22\" : \"\\Chm\",\n",
    "                    \"FG58\": \"\\GldFifty\",\n",
    "                    \"FG67\": \"\\GldSixty\",\n",
    "                    \"JJ90\": \"\\Jnd\",\n",
    "                    \"FJ62\": \"\\Jnk\",\n",
    "                    \"WK64\": \"\\Kmp\",\n",
    "                    \"AS35\": \"\\Sch\"}"
   ]
  },
  {
   "cell_type": "code",
   "execution_count": 23,
   "id": "9ff3aef3-a731-4c60-89d9-48b062820997",
   "metadata": {
    "tags": []
   },
   "outputs": [],
   "source": [
    "sonata_names = {\n",
    "    \"Op002No1-01\": \"\",\n",
    "    \"Op002No2-01\": \"\",\n",
    "    \"Op002No3-01\": \"\",\n",
    "    \"Op007-01\": \"Grand Sonata\",\n",
    "    \"Op010No1-01\": \"\",\n",
    "    \"Op010No2-01\": \"\",\n",
    "    \"Op010No3-01\": \"\",\n",
    "    \"Op013-01\": \"Pathétique\",\n",
    "    \"Op014No1-01\": \"\",\n",
    "    \"Op014No2-01\": \"\",\n",
    "    \"Op022-01\": \"\",\n",
    "    \"Op026-01\": \"\",\n",
    "    \"Op027No1-01\": \"Son. q. u. fant.\",\n",
    "    \"Op027No2-01\": \"Moonlight\",\n",
    "    \"Op028-01\": \"Pastoral\",\n",
    "    \"Op031No1-01\": \"\",\n",
    "    \"Op031No2-01\": \"Tempest\",\n",
    "    \"Op031No3-01\": \"The Hunt\",\n",
    "    \"Op049No1-01\": \"Easy Sonata\",\n",
    "    \"Op049No2-01\": \"Easy Sonata\",\n",
    "    \"Op053-01\": \"Waldstein\",\n",
    "    \"Op054-01\": \"\",\n",
    "    \"Op057-01\": \"Appassionata\",\n",
    "    \"Op078-01\": \"A Thérèse\",\n",
    "    \"Op079-01\": \"Cuckoo\",\n",
    "    \"Op081a-01\": \"Les adieux\",\n",
    "    \"Op090-01\": \"\",\n",
    "    \"Op101-01\": \"\",\n",
    "    \"Op106-01\": \"Hammerklavier\",\n",
    "    \"Op109-01\": \"\",\n",
    "    \"Op110-01\": \"\",\n",
    "    \"Op111-01\": \"\",\n",
    "}\n"
   ]
  },
  {
   "cell_type": "code",
   "execution_count": 24,
   "id": "27854ca1-29cc-43a6-93cf-0316425ff095",
   "metadata": {
    "tags": []
   },
   "outputs": [],
   "source": [
    "globalkey = pd.read_csv(os.path.join(\"../\", \"2_Annotations\", \"ann_score_globalkey\", \"Beethoven_piano_sonatas_globalkey.csv\"), sep=\";\")"
   ]
  },
  {
   "cell_type": "code",
   "execution_count": 25,
   "id": "e5e70513-5428-4dd8-a966-804d783178c2",
   "metadata": {
    "tags": []
   },
   "outputs": [
    {
     "name": "stdout",
     "output_type": "stream",
     "text": [
      "Nr \tOp\t\tName\tKey\tMean\t\tMin\t\t\t Max \t\t\t \\# measures \t structure\n",
      "01  &  Op002No1-01 \t&  &\t F:min &\t  03:47  &  03:22 (\\Sch)       \t&   04:33 (\\Kmp)\t&  200  &  E-E-D-R\\\\\n",
      "02  &  Op002No2-01 \t&  &\t A:maj &\t  07:04  &  06:23 (\\GldSixty)       \t&   07:45 (\\Chm)\t&  452  &  E-E-D-R\\\\\n",
      "03  &  Op002No3-01 \t&  &\t C:maj &\t  10:15  &  09:47 (\\GldFifty)       \t&   11:25 (\\Chm)\t&  347  &  E-E-D-R-C\\\\\n",
      "04  &  Op007-01 \t& Grand Sonata &\t Eb:maj &\t  08:17  &  07:27 (\\Sch)       \t&   08:58 (\\Chm)\t&  497  &  E-E-D-R-C\\\\\n",
      "05  &  Op010No1-01 \t&  &\t C:min &\t  05:33  &  04:41 (\\Sch)       \t&   06:13 (\\Chm)\t&  388  &  E-E-D-R\\\\\n",
      "06  &  Op010No2-01 \t&  &\t F:maj &\t  05:38  &  05:03 (\\GldSixty)       \t&   06:14 (\\Ash)\t&  268  &  E-E-D-R\\\\\n",
      "07  &  Op010No3-01 \t&  &\t D:maj &\t  06:59  &  06:26 (\\Jnk)       \t&   07:53 (\\Jnd)\t&  467  &  E-E-D-R-C\\\\\n",
      "08  &  Op013-01 \t& Pathétique &\t C:min &\t  08:56  &  08:06 (\\GldFifty)       \t&   09:57 (\\Chm)\t&  431  &  I-E-E-D-R-C\\\\\n",
      "09  &  Op014No1-01 \t&  &\t E:maj &\t  06:35  &  05:31 (\\Ash)       \t&   07:25 (\\Brd)\t&  222  &  E-E-D-R-C\\\\\n",
      "10  &  Op014No2-01 \t&  &\t G:maj &\t  07:06  &  05:49 (\\Sch)       \t&   07:56 (\\Brd)\t&  263  &  E-E-D-R-C\\\\\n",
      "11  &  Op022-01 \t&  &\t Bb:maj &\t  07:26  &  06:43 (\\Sch)       \t&   08:36 (\\Chm)\t&  267  &  E-E-D-R\\\\\n",
      "12  &  Op026-01 \t&  &\t Ab:maj &\t  08:01  &  06:51 (\\GldSixty)       \t&   10:02 (\\Sch)\t&  219  &  T-V1-V2-V3-V4-V5\\\\\n",
      "13  &  Op027No1-01 \t& Son. q. u. fant. &\t Eb:maj &\t  05:12  &  04:36 (\\Brd)       \t&   05:42 (\\GldFifty)\t&  106  &  A-A-T1\\\\\n",
      "14  &  Op027No2-01 \t& Moonlight &\t C\\#:min &\t  06:01  &  04:58 (\\Sch)       \t&   07:28 (\\GldFifty)\t&  69  &  P1-P2-P3-C\\\\\n",
      "15  &  Op028-01 \t& Pastoral &\t D:maj &\t  09:58  &  08:58 (\\Jnk)       \t&   11:39 (\\Chm)\t&  622  &  E-E-D-R-C\\\\\n",
      "16  &  Op031No1-01 \t&  &\t G:maj &\t  06:23  &  05:44 (\\GldFifty)       \t&   07:19 (\\Chm)\t&  435  &  E-E-D-R-C\\\\\n",
      "17  &  Op031No2-01 \t& Tempest &\t D:min &\t  08:27  &  06:49 (\\GldFifty)       \t&   09:52 (\\Chm)\t&  320  &  E-E-D-R-C\\\\\n",
      "18  &  Op031No3-01 \t& The Hunt &\t Eb:maj &\t  08:29  &  07:53 (\\GldSixty)       \t&   09:07 (\\Bls)\t&  341  &  E-E-D-R-C\\\\\n",
      "19  &  Op049No1-01 \t& Easy Sonata &\t G:min &\t  04:35  &  03:41 (\\Jnd)       \t&   05:17 (\\Bls)\t&  143  &  E-E-D-R-C\\\\\n",
      "20  &  Op049No2-01 \t& Easy Sonata &\t G:maj &\t  04:37  &  04:19 (\\Jnk)       \t&   05:10 (\\Chm)\t&  174  &  E-E-D-R\\\\\n",
      "21  &  Op053-01 \t& Waldstein &\t C:maj &\t  10:38  &  09:25 (\\GldSixty)       \t&   11:36 (\\Chm)\t&  387  &  E-E-D-R-C\\\\\n",
      "22  &  Op054-01 \t&  &\t F:maj &\t  05:38  &  04:58 (\\Sch)       \t&   06:13 (\\Chm)\t&  154  &  M1-T1-M2-T2-M3-C\\\\\n",
      "23  &  Op057-01 \t& Appassionata &\t F:min &\t  09:35  &  07:35 (\\GldSixty)       \t&   10:39 (\\Brb)\t&  262  &  E-D-R-C\\\\\n",
      "24  &  Op078-01 \t& A Thérèse &\t F\\#:maj &\t  07:04  &  06:20 (\\GldFifty)       \t&   08:18 (\\Chm)\t&  206  &  I-E-E-D-R-D-R\\\\\n",
      "25  &  Op079-01 \t& Cuckoo &\t G:maj &\t  04:40  &  03:58 (\\Sch)       \t&   05:12 (\\Chm)\t&  372  &  E-E-D-R-D-R-C\\\\\n",
      "26  &  Op081a-01 \t& Les adieux &\t Eb:maj &\t  07:04  &  06:00 (\\GldSixty)       \t&   07:50 (\\Brb)\t&  308  &  I-E-E-D-R-C\\\\\n",
      "27  &  Op090-01 \t&  &\t E:min &\t  05:35  &  04:34 (\\GldSixty)       \t&   06:19 (\\Bls)\t&  245  &  E-D-R-C\\\\\n",
      "28  &  Op101-01 \t&  &\t A:maj &\t  04:00  &  03:35 (\\Kmp)       \t&   04:29 (\\Brb)\t&  102  &  E-D-R-C\\\\\n",
      "29  &  Op106-01 \t& Hammerklavier &\t Bb:maj &\t  11:06  &  08:54 (\\Sch)       \t&   13:04 (\\Brb)\t&  530  &  E-E-D-R-C\\\\\n",
      "30  &  Op109-01 \t&  &\t E:maj &\t  03:46  &  03:14 (\\Kmp)       \t&   04:19 (\\Brb)\t&  99  &  E-D-R-C\\\\\n",
      "31  &  Op110-01 \t&  &\t Ab:maj &\t  06:33  &  06:00 (\\Jnk)       \t&   07:33 (\\Brb)\t&  116  &  E-D-R-C\\\\\n",
      "32  &  Op111-01 \t&  &\t C:min &\t  09:05  &  08:20 (\\Sch)       \t&   10:04 (\\Ash)\t&  209  &  I-E-E-D-R-C\\\\\n"
     ]
    }
   ],
   "source": [
    "print(\"Nr \\tOp\\t\\tName\\tKey\\tMean\\t\\tMin\\t\\t\\t Max \\t\\t\\t \\# measures \\t structure\")\n",
    "for i, sonata in enumerate(sonatas):\n",
    "    \n",
    "    \n",
    "    \n",
    "    sonata_dur = []\n",
    "    for performer in performers: sonata_dur.append(durations_cut[performer][i])    \n",
    "    iMin = np.argmin(sonata_dur)\n",
    "    iMax = np.argmax(sonata_dur)\n",
    "    \n",
    "    df_meas = pd.read_csv(os.path.join(ann_audio_measure_dir, \"Beethoven_\"+sonata.split(\".\")[0]+\"_WK64.csv\"), sep=\";\")\n",
    "    \n",
    "    meas_start = np.min(df_meas.measure)\n",
    "    meas_end = np.max(df_meas.measure)\n",
    "    \n",
    "    shortForms = []\n",
    "    df_struct = pd.read_csv(os.path.join(ann_score_coarseStructure_path, \"Beethoven_\"+sonata+\".csv\"), sep=\";\")\n",
    "    \n",
    "    for _, row in df_struct.iterrows():\n",
    "        shortForms.append(row.structure[:1])\n",
    "        suffix = row.structure.split(\" \")[-1]\n",
    "        \n",
    "        if (suffix.isnumeric()) or (suffix[-1] == \"I\"):\n",
    "            \n",
    "            \n",
    "            if suffix == \"I\" : suffix = \"1\"\n",
    "            elif suffix == \"II\": suffix = \"2\"\n",
    "            elif suffix == \"III\": suffix = \"3\"\n",
    "            \n",
    "            shortForms[-1] = shortForms[-1][0]\n",
    "            shortForms[-1]+=suffix\n",
    "        \n",
    "    shortForm = \"-\".join(shortForms)\n",
    "    \n",
    "    \n",
    "    print(\"%02i  &  %s \\t& %s &\\t %s &\\t  %s  &  %s (%s)       \\t&   %s (%s)\\t&  %i  &  %s\\\\\\\\\"%(i+1, \n",
    "                              sonata, \n",
    "                              sonata_names[sonata],\n",
    "                              globalkey[globalkey.opus==sonata].globalkey.item().replace(\"#\",\"\\#\"),                                                             \n",
    "                              sec_to_hMinSec(np.mean(sonata_dur))[0][3:],\n",
    "                              sec_to_hMinSec(sonata_dur[iMin])[0][3:], performer_macros[performers[iMin]],\n",
    "                              sec_to_hMinSec(sonata_dur[iMax])[0][3:], performer_macros[performers[iMax]],\n",
    "                              np.floor(meas_end),\n",
    "                              shortForm))           \n",
    "    \n"
   ]
  }
 ],
 "metadata": {
  "kernelspec": {
   "display_name": "Python 3 (ipykernel)",
   "language": "python",
   "name": "python3"
  },
  "language_info": {
   "codemirror_mode": {
    "name": "ipython",
    "version": 3
   },
   "file_extension": ".py",
   "mimetype": "text/x-python",
   "name": "python",
   "nbconvert_exporter": "python",
   "pygments_lexer": "ipython3",
   "version": "3.11.8"
  }
 },
 "nbformat": 4,
 "nbformat_minor": 5
}
