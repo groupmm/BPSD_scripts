{
 "cells": [
  {
   "cell_type": "markdown",
   "id": "4a87d375-e0aa-4de5-8b07-57f0ebe1b14d",
   "metadata": {},
   "source": [
    "# BPSD: Write MIDIs\n",
    "\n",
    "- Export MIDIs from note event annotations\n",
    "- Synthesize MIDIs using FluidSynth\n",
    "\n",
    "Johannes Zeitler (johannes.zeitler@audiolabs-erlangen.de), 2024"
   ]
  },
  {
   "cell_type": "code",
   "execution_count": 18,
   "id": "b2ffedbc-f6dc-4e0d-9853-e21238985e6f",
   "metadata": {
    "tags": []
   },
   "outputs": [],
   "source": [
    "import os"
   ]
  },
  {
   "cell_type": "code",
   "execution_count": 19,
   "id": "9fc936f5-6cbb-49d3-8fa8-7dd0c5d7d05a",
   "metadata": {
    "pycharm": {
     "name": "#%%\n"
    },
    "tags": []
   },
   "outputs": [],
   "source": [
    "# Loading some modules and defining some constants used later\n",
    "import IPython.display as ipd\n",
    "import libfmp.c2\n",
    "import librosa.display\n",
    "import matplotlib.pyplot as plt\n",
    "import numpy as np\n",
    "import pandas as pd\n",
    "import scipy.interpolate\n",
    "from scipy.io import wavfile\n",
    "from midi_utils import save_midi\n",
    "\n",
    "from tqdm.notebook import tqdm\n"
   ]
  },
  {
   "cell_type": "code",
   "execution_count": 20,
   "id": "3ebfad7f-f178-45e4-af2d-3d5f8a86d19f",
   "metadata": {
    "tags": []
   },
   "outputs": [],
   "source": [
    "def write_midi(path, note_list):\n",
    "    pitch_list = []\n",
    "    intervals_list = []\n",
    "    vel_list = []\n",
    "    inst_list = []\n",
    "\n",
    "    for ons, dur, pitch, vel in note_list:\n",
    "        pitch_list.append(pitch)\n",
    "        intervals_list.append((ons, ons+dur))\n",
    "        vel_list.append(vel)\n",
    "        inst_list.append(0)\n",
    "\n",
    "    save_midi(path, \n",
    "              pitches=pitch_list,\n",
    "              intervals=intervals_list,\n",
    "              velocities=vel_list,\n",
    "             insts = inst_list)"
   ]
  },
  {
   "cell_type": "code",
   "execution_count": 21,
   "id": "02ce07f9-7e72-4249-b6fd-2424da1ea649",
   "metadata": {
    "tags": []
   },
   "outputs": [],
   "source": [
    "in_path = os.path.join(\"../\", \"2_Annotations\", \"ann_audio_note\")\n",
    "out_path = os.path.join(\"../\", \"2_Annotations\", \"ann_audio_midi\")"
   ]
  },
  {
   "cell_type": "code",
   "execution_count": 22,
   "id": "b49002e2-dd35-4131-8948-5f838924945c",
   "metadata": {
    "tags": []
   },
   "outputs": [
    {
     "name": "stdout",
     "output_type": "stream",
     "text": [
      "352\n"
     ]
    }
   ],
   "source": [
    "pieces = [f[:-4] for f in os.listdir(in_path) if \".csv\" in f]\n",
    "pieces.sort()\n",
    "print(len(pieces))"
   ]
  },
  {
   "cell_type": "code",
   "execution_count": 23,
   "id": "f1ba2206-31c8-4648-a569-86784f7e37e2",
   "metadata": {
    "tags": []
   },
   "outputs": [
    {
     "data": {
      "application/vnd.jupyter.widget-view+json": {
       "model_id": "6afab5d84e1f46bdb1f5d1c62066468a",
       "version_major": 2,
       "version_minor": 0
      },
      "text/plain": [
       "  0%|          | 0/352 [00:00<?, ?it/s]"
      ]
     },
     "metadata": {},
     "output_type": "display_data"
    }
   ],
   "source": [
    "for piece in tqdm(pieces):\n",
    "    notesIn = pd.read_csv(os.path.join(in_path,\"%s.csv\"%(piece)), sep=\";\")    \n",
    "    note_list = [[note.start, note.end-note.start, note.pitch, 64] for _,note in notesIn.iterrows()]\n",
    "    write_midi(os.path.join(out_path, \"%s.mid\"%(piece)), note_list)  "
   ]
  },
  {
   "cell_type": "markdown",
   "id": "7247280c-cfd4-4874-a297-08a6dc4ebfd8",
   "metadata": {},
   "source": [
    "### Demo: synthesize a piece using FluidSynth"
   ]
  },
  {
   "cell_type": "code",
   "execution_count": 15,
   "id": "25327e86-b162-4580-b36e-d98b1b7facd7",
   "metadata": {},
   "outputs": [],
   "source": [
    "sonata = \"Beethoven_Op027No2-01\"\n",
    "performer = \"FG67\""
   ]
  },
  {
   "cell_type": "code",
   "execution_count": 17,
   "id": "22ad065e-8234-41a0-b892-0b470fd627f0",
   "metadata": {
    "tags": []
   },
   "outputs": [
    {
     "name": "stdout",
     "output_type": "stream",
     "text": [
      "FluidSynth runtime version 2.2.5\n",
      "Copyright (C) 2000-2022 Peter Hanappe and others.\n",
      "Distributed under the LGPL license.\n",
      "SoundFont(R) is a registered trademark of Creative Technology Ltd.\n",
      "\n",
      "Rendering audio to file '../4_misc/synth/Beethoven_Op027No2-01_FG67.wav'..\n"
     ]
    },
    {
     "data": {
      "text/plain": [
       "0"
      ]
     },
     "execution_count": 17,
     "metadata": {},
     "output_type": "execute_result"
    }
   ],
   "source": [
    "os.system(\"fluidsynth -r 22050 -F ../4_misc/synth/%s_%s.wav ../2_Annotations/ann_audio_midi/%s_%s.mid\"%(sonata, performer, sonata, performer))\n"
   ]
  },
  {
   "cell_type": "code",
   "execution_count": null,
   "id": "c36d6450-8332-4350-a01f-943e2cbb68f2",
   "metadata": {},
   "outputs": [],
   "source": []
  }
 ],
 "metadata": {
  "kernelspec": {
   "display_name": "Python 3 (ipykernel)",
   "language": "python",
   "name": "python3"
  },
  "language_info": {
   "codemirror_mode": {
    "name": "ipython",
    "version": 3
   },
   "file_extension": ".py",
   "mimetype": "text/x-python",
   "name": "python",
   "nbconvert_exporter": "python",
   "pygments_lexer": "ipython3",
   "version": "3.11.8"
  }
 },
 "nbformat": 4,
 "nbformat_minor": 5
}
