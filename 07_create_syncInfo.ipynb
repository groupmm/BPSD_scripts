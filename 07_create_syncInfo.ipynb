{
 "cells": [
  {
   "cell_type": "markdown",
   "id": "8c76c0fa-65d5-4190-9e89-f5210e439453",
   "metadata": {},
   "source": [
    "# BPSD: Create Alignment Tuples\n",
    "\n",
    "- Create tuples for note onsets (musical and physical time) as sampling points for the transfer of score-based annotations\n",
    "\n",
    "Johannes Zeitler (johannes.zeitler@audiolabs-erlangen.de), 2024"
   ]
  },
  {
   "cell_type": "code",
   "execution_count": 1,
   "id": "d93b218b-9b1b-4603-a815-2de2db362318",
   "metadata": {
    "tags": []
   },
   "outputs": [],
   "source": [
    "import numpy as np\n",
    "import pandas as pd\n",
    "import os\n",
    "import matplotlib.pyplot as plt\n",
    "from tqdm.notebook import tqdm"
   ]
  },
  {
   "cell_type": "code",
   "execution_count": 2,
   "id": "f7e6eaf2-bba4-4303-b834-6a4e0000c79d",
   "metadata": {
    "tags": []
   },
   "outputs": [],
   "source": [
    "data_dir = os.path.join(\"../\", \"2_Annotations\")"
   ]
  },
  {
   "cell_type": "markdown",
   "id": "18d7b1fb-cc84-49b6-9ae0-ce08fd4694fa",
   "metadata": {},
   "source": [
    "### create tuples for aligning musical and physical time lines"
   ]
  },
  {
   "cell_type": "code",
   "execution_count": 3,
   "id": "049689cb-047b-4ebe-b6a7-3c05dce4dc54",
   "metadata": {
    "tags": []
   },
   "outputs": [],
   "source": [
    "pieces = [f for f in os.listdir(os.path.join(data_dir, \"ann_audio_note\")) if \".csv\" in f]"
   ]
  },
  {
   "cell_type": "code",
   "execution_count": 5,
   "id": "822e52d9-d264-473b-8464-cb6f6e876f4e",
   "metadata": {
    "tags": []
   },
   "outputs": [
    {
     "data": {
      "application/vnd.jupyter.widget-view+json": {
       "model_id": "bb1a9cdcc484493e9d64932e139fd651",
       "version_major": 2,
       "version_minor": 0
      },
      "text/plain": [
       "  0%|          | 0/352 [00:00<?, ?it/s]"
      ]
     },
     "metadata": {},
     "output_type": "display_data"
    }
   ],
   "source": [
    "for piece in tqdm(pieces):\n",
    "    note_in = pd.read_csv(os.path.join(data_dir, \"ann_audio_note\", piece), sep=\";\")\n",
    "    measures_in = pd.read_csv(os.path.join(data_dir, \"ann_audio_measure\", piece), sep=\";\")\n",
    "\n",
    "\n",
    "    note_list = list(set([(row.start_meas, row.start) for _, row in note_in.iterrows()]))\n",
    "    note_list.sort()\n",
    "\n",
    "    meas_list = list(set([(np.round(row.measure, 3), np.round(row.time, 3)) for _, row in measures_in.iterrows()]))\n",
    "\n",
    "    combined_list = list(set(note_list+meas_list))\n",
    "    combined_list.sort()\n",
    "\n",
    "    times = []\n",
    "    beats = []\n",
    "    for beat, time in combined_list:\n",
    "        times.append(time)\n",
    "        beats.append(beat)\n",
    "\n",
    "    pd.DataFrame({\"time\":times, \"measure\":beats}).to_csv(os.path.join(data_dir, \"ann_audio_syncInfo\", piece), sep=\";\", header=True, index=False, float_format=\"%07.03f\")"
   ]
  }
 ],
 "metadata": {
  "kernelspec": {
   "display_name": "Python 3 (ipykernel)",
   "language": "python",
   "name": "python3"
  },
  "language_info": {
   "codemirror_mode": {
    "name": "ipython",
    "version": 3
   },
   "file_extension": ".py",
   "mimetype": "text/x-python",
   "name": "python",
   "nbconvert_exporter": "python",
   "pygments_lexer": "ipython3",
   "version": "3.11.8"
  }
 },
 "nbformat": 4,
 "nbformat_minor": 5
}
